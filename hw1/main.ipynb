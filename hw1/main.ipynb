{
 "cells": [
  {
   "cell_type": "code",
   "id": "initial_id",
   "metadata": {
    "collapsed": true,
    "ExecuteTime": {
     "end_time": "2025-03-16T20:55:54.959297Z",
     "start_time": "2025-03-16T20:55:54.864142Z"
    }
   },
   "source": [
    "import grpc\n",
    "\n",
    "import server_pb2\n",
    "import server_pb2_grpc\n",
    "import numpy as np"
   ],
   "outputs": [],
   "execution_count": 1
  },
  {
   "metadata": {
    "ExecuteTime": {
     "end_time": "2025-03-16T20:55:54.985052Z",
     "start_time": "2025-03-16T20:55:54.974021Z"
    }
   },
   "cell_type": "code",
   "source": [
    "# Create a channel\n",
    "channel = grpc.insecure_channel('andromeda.fi.muni.cz:58110')"
   ],
   "id": "6069371423e60f84",
   "outputs": [],
   "execution_count": 2
  },
  {
   "metadata": {
    "ExecuteTime": {
     "end_time": "2025-03-16T20:55:55.136949Z",
     "start_time": "2025-03-16T20:55:55.133896Z"
    }
   },
   "cell_type": "code",
   "source": [
    "# Create a stub (client)\n",
    "stub = server_pb2_grpc.HomeworkStub(channel)"
   ],
   "id": "4009b66f327544ba",
   "outputs": [],
   "execution_count": 3
  },
  {
   "metadata": {
    "ExecuteTime": {
     "end_time": "2025-03-16T20:55:55.178329Z",
     "start_time": "2025-03-16T20:55:55.175058Z"
    }
   },
   "cell_type": "code",
   "source": [
    "# Create a request with university email\n",
    "request = server_pb2.BeginData(email='555179@mail.muni.cz')"
   ],
   "id": "f1f40dd5441d8166",
   "outputs": [],
   "execution_count": 4
  },
  {
   "metadata": {
    "ExecuteTime": {
     "end_time": "2025-03-16T20:55:55.244067Z",
     "start_time": "2025-03-16T20:55:55.221921Z"
    }
   },
   "cell_type": "code",
   "source": [
    "# Make the call to the Begin method\n",
    "response = stub.Begin(request)\n",
    "session_token = response.token"
   ],
   "id": "6e02975b1a6dd08f",
   "outputs": [],
   "execution_count": 5
  },
  {
   "metadata": {
    "ExecuteTime": {
     "end_time": "2025-03-16T20:55:55.286288Z",
     "start_time": "2025-03-16T20:55:55.274183Z"
    }
   },
   "cell_type": "code",
   "source": "response",
   "id": "b9ff413d222abdef",
   "outputs": [
    {
     "data": {
      "text/plain": [
       "token: \"90141212-1659-4048-87b9-e133073cb335\"\n",
       "info: \"Define the following two messages:\\n    message AdderTask {\\n        int64 a = 1;\\n        float b = 2;\\n    }\\n\\n    message AdderTaskResponse {\\n        string token = 1;\\n        double result = 2;\\n    }\\n\\nThe AdderTask in \\\"oneof tasks\\\" in the Response message has the field number 8.\\n\\nExtend the Homework service with the following method:\\n    rpc Adder(AdderTaskResponse) returns (Response);\\n\\nTo get the next task, you have to call the Adder service with the response filled\\nwith your assigned token and the result of the sum of the values \\\"a\\\" and \\\"b\\\" in\\nthe AdderTask.\\n\"\n",
       "adderTask {\n",
       "  a: 811\n",
       "  b: 842.428101\n",
       "}"
      ]
     },
     "execution_count": 6,
     "metadata": {},
     "output_type": "execute_result"
    }
   ],
   "execution_count": 6
  },
  {
   "metadata": {
    "ExecuteTime": {
     "end_time": "2025-03-16T20:55:55.331502Z",
     "start_time": "2025-03-16T20:55:55.326769Z"
    }
   },
   "cell_type": "code",
   "source": [
    "# Calculate the sum of a and b\n",
    "a = response.adderTask.a\n",
    "b = response.adderTask.b\n",
    "result = a + b\n",
    "result"
   ],
   "id": "fa87f74b151e8b2f",
   "outputs": [
    {
     "data": {
      "text/plain": [
       "1653.4281005859375"
      ]
     },
     "execution_count": 7,
     "metadata": {},
     "output_type": "execute_result"
    }
   ],
   "execution_count": 7
  },
  {
   "metadata": {
    "ExecuteTime": {
     "end_time": "2025-03-16T20:55:55.378829Z",
     "start_time": "2025-03-16T20:55:55.375320Z"
    }
   },
   "cell_type": "code",
   "source": [
    "adder_response = server_pb2.AdderTaskResponse(\n",
    "    token=session_token,\n",
    "    result=result\n",
    ")\n"
   ],
   "id": "18d4778c8d83581a",
   "outputs": [],
   "execution_count": 8
  },
  {
   "metadata": {
    "ExecuteTime": {
     "end_time": "2025-03-16T20:55:55.426078Z",
     "start_time": "2025-03-16T20:55:55.421469Z"
    }
   },
   "cell_type": "code",
   "source": "adder_response",
   "id": "c0f39d12e0f85e9",
   "outputs": [
    {
     "data": {
      "text/plain": [
       "token: \"90141212-1659-4048-87b9-e133073cb335\"\n",
       "result: 1653.4281005859375"
      ]
     },
     "execution_count": 9,
     "metadata": {},
     "output_type": "execute_result"
    }
   ],
   "execution_count": 9
  },
  {
   "metadata": {
    "ExecuteTime": {
     "end_time": "2025-03-16T20:55:55.600648Z",
     "start_time": "2025-03-16T20:55:55.559935Z"
    }
   },
   "cell_type": "code",
   "source": [
    "request2 = server_pb2.AdderTaskResponse(token=adder_response.token, result=adder_response.result)\n",
    "response2 = stub.Adder(request2)"
   ],
   "id": "8f7c09869ea055e0",
   "outputs": [],
   "execution_count": 10
  },
  {
   "metadata": {
    "ExecuteTime": {
     "end_time": "2025-03-16T20:55:55.611431Z",
     "start_time": "2025-03-16T20:55:55.606186Z"
    }
   },
   "cell_type": "code",
   "source": "response2",
   "id": "d7d328604ec880d9",
   "outputs": [
    {
     "data": {
      "text/plain": [
       "token: \"90141212-1659-4048-87b9-e133073cb335\"\n",
       "info: \"Define the following two messages:\\n    message MatrixTask {\\n        message Row {\\n            repeated int64 values = 1; \\n        }\\n        repeated Row rows = 1;\\n    }\\n\\n    message MatrixTaskResponse {\\n        string token = 1;\\n        int64 determinant = 2;\\n    }\\n\\nThe MatrixTask in \\\"oneof tasks\\\" in the Response message has the field number 9.\\n\\nExtend the Homework service with the following method:\\n    rpc Matrix(MatrixTaskResponse) returns (Response);\\n\\nTo get the next task, you have to call the Matrix method with the response filled\\nwith your assigned token and the matrix determinant.\\nSee https://en.wikipedia.org/wiki/Determinant for the description of the matrix determinant.\"\n",
       "matrixTask {\n",
       "  rows {\n",
       "    values: 13\n",
       "    values: 19\n",
       "    values: 17\n",
       "  }\n",
       "  rows {\n",
       "    values: 14\n",
       "    values: 14\n",
       "    values: 16\n",
       "  }\n",
       "  rows {\n",
       "    values: 11\n",
       "    values: 16\n",
       "    values: 11\n",
       "  }\n",
       "}"
      ]
     },
     "execution_count": 11,
     "metadata": {},
     "output_type": "execute_result"
    }
   ],
   "execution_count": 11
  },
  {
   "metadata": {
    "ExecuteTime": {
     "end_time": "2025-03-16T20:55:55.717822Z",
     "start_time": "2025-03-16T20:55:55.710646Z"
    }
   },
   "cell_type": "code",
   "source": [
    "# Calculate determinant of matrix\n",
    "matrix = []\n",
    "for row in response2.matrixTask.rows:\n",
    "    matrix_row = list(row.values)\n",
    "    matrix.append(matrix_row)\n",
    "n_array = np.array(matrix)\n",
    "det = np.linalg.det(n_array)\n",
    "float(det)"
   ],
   "id": "23fa6da0225e4b4b",
   "outputs": [
    {
     "data": {
      "text/plain": [
       "282.00000000000006"
      ]
     },
     "execution_count": 12,
     "metadata": {},
     "output_type": "execute_result"
    }
   ],
   "execution_count": 12
  },
  {
   "metadata": {
    "ExecuteTime": {
     "end_time": "2025-03-16T20:55:55.823516Z",
     "start_time": "2025-03-16T20:55:55.818458Z"
    }
   },
   "cell_type": "code",
   "source": [
    "matrix_response = server_pb2.MatrixTaskResponse(\n",
    "    token=response2.token,\n",
    "    determinant=int(det)\n",
    ")"
   ],
   "id": "f745b6e4d693db6c",
   "outputs": [],
   "execution_count": 13
  },
  {
   "metadata": {
    "ExecuteTime": {
     "end_time": "2025-03-16T20:55:55.892064Z",
     "start_time": "2025-03-16T20:55:55.874791Z"
    }
   },
   "cell_type": "code",
   "source": "matrix_response",
   "id": "77a2439502a6c2c1",
   "outputs": [
    {
     "data": {
      "text/plain": [
       "token: \"90141212-1659-4048-87b9-e133073cb335\"\n",
       "determinant: 282"
      ]
     },
     "execution_count": 14,
     "metadata": {},
     "output_type": "execute_result"
    }
   ],
   "execution_count": 14
  },
  {
   "metadata": {
    "ExecuteTime": {
     "end_time": "2025-03-16T20:55:56.015174Z",
     "start_time": "2025-03-16T20:55:55.999709Z"
    }
   },
   "cell_type": "code",
   "source": [
    "request3 = server_pb2.MatrixTaskResponse(token=matrix_response.token, determinant=matrix_response.determinant)\n",
    "response3 = stub.Matrix(request3)"
   ],
   "id": "a3ac726938640f06",
   "outputs": [],
   "execution_count": 15
  },
  {
   "metadata": {
    "ExecuteTime": {
     "end_time": "2025-03-16T20:55:56.097934Z",
     "start_time": "2025-03-16T20:55:56.091911Z"
    }
   },
   "cell_type": "code",
   "source": "response3",
   "id": "c2d8971dccf462c5",
   "outputs": [
    {
     "data": {
      "text/plain": [
       "token: \"90141212-1659-4048-87b9-e133073cb335\"\n",
       "info: \"Define the following three messages:\\n    message FlipLineRequest {\\n        string token = 1;\\n    }\\n\\n    message FlipLineResponse {\\n        optional string token = 1;\\n        Point point = 2;\\n    }\\n\\n    message Point {\\n        sint32 x = 1;\\n        sint32 y = 2;\\n    }\\n\\nExtend the Homework service with the following method:\\n    rpc ReadLine(FlipLineRequest) returns (stream Point);\\n    rpc SendLine(stream FlipLineResponse) returns (Response);\\n\\nTo get the next task, you have to call the call the ReadLine method (with your assigned token),\\nread the points and send them back (SendLine) to the server wrapped in FlipLineResponse with\\nreversed X and Y axis. Note that at least one response needs to have your assigned token.\""
      ]
     },
     "execution_count": 16,
     "metadata": {},
     "output_type": "execute_result"
    }
   ],
   "execution_count": 16
  }
 ],
 "metadata": {
  "kernelspec": {
   "display_name": "Python 3",
   "language": "python",
   "name": "python3"
  },
  "language_info": {
   "codemirror_mode": {
    "name": "ipython",
    "version": 2
   },
   "file_extension": ".py",
   "mimetype": "text/x-python",
   "name": "python",
   "nbconvert_exporter": "python",
   "pygments_lexer": "ipython2",
   "version": "2.7.6"
  }
 },
 "nbformat": 4,
 "nbformat_minor": 5
}
