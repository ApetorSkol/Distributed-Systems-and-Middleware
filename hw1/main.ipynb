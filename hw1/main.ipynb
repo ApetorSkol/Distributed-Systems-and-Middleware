{
 "cells": [
  {
   "cell_type": "code",
   "id": "initial_id",
   "metadata": {
    "collapsed": true,
    "ExecuteTime": {
     "end_time": "2025-03-15T14:32:35.296837Z",
     "start_time": "2025-03-15T14:32:35.292878Z"
    }
   },
   "source": [
    "import grpc\n",
    "import server_pb2\n",
    "import server_pb2_grpc"
   ],
   "outputs": [],
   "execution_count": 8
  },
  {
   "metadata": {
    "ExecuteTime": {
     "end_time": "2025-03-15T14:32:35.997150Z",
     "start_time": "2025-03-15T14:32:35.990930Z"
    }
   },
   "cell_type": "code",
   "source": [
    "# Create a channel\n",
    "channel = grpc.insecure_channel('andromeda.fi.muni.cz:58110')"
   ],
   "id": "6069371423e60f84",
   "outputs": [],
   "execution_count": 9
  },
  {
   "metadata": {
    "ExecuteTime": {
     "end_time": "2025-03-15T14:32:36.533811Z",
     "start_time": "2025-03-15T14:32:36.528385Z"
    }
   },
   "cell_type": "code",
   "source": [
    "# Create a stub (client)\n",
    "stub = server_pb2_grpc.HomeworkStub(channel)"
   ],
   "id": "4009b66f327544ba",
   "outputs": [],
   "execution_count": 10
  },
  {
   "metadata": {
    "ExecuteTime": {
     "end_time": "2025-03-15T14:32:37.035120Z",
     "start_time": "2025-03-15T14:32:37.029736Z"
    }
   },
   "cell_type": "code",
   "source": [
    "# Create a request with university email\n",
    "request = server_pb2.BeginData(email='555179@mail.muni.cz')"
   ],
   "id": "f1f40dd5441d8166",
   "outputs": [],
   "execution_count": 11
  },
  {
   "metadata": {
    "ExecuteTime": {
     "end_time": "2025-03-15T14:33:30.297488Z",
     "start_time": "2025-03-15T14:33:30.259544Z"
    }
   },
   "cell_type": "code",
   "source": [
    "# Make the call to the Begin method\n",
    "response = stub.Begin(request)"
   ],
   "id": "6e02975b1a6dd08f",
   "outputs": [],
   "execution_count": 14
  },
  {
   "metadata": {
    "ExecuteTime": {
     "end_time": "2025-03-15T14:33:39.741775Z",
     "start_time": "2025-03-15T14:33:39.730679Z"
    }
   },
   "cell_type": "code",
   "source": "response",
   "id": "b9ff413d222abdef",
   "outputs": [
    {
     "data": {
      "text/plain": [
       "token: \"b1ad0115-c311-4c52-a228-342eb619299d\"\n",
       "info: \"Define the following two messages:\\n    message AdderTask {\\n        int64 a = 1;\\n        float b = 2;\\n    }\\n\\n    message AdderTaskResponse {\\n        string token = 1;\\n        double result = 2;\\n    }\\n\\nThe AdderTask in \\\"oneof tasks\\\" in the Response message has the field number 8.\\n\\nExtend the Homework service with the following method:\\n    rpc Adder(AdderTaskResponse) returns (Response);\\n\\nTo get the next task, you have to call the Adder service with the response filled\\nwith your assigned token and the result of the sum of the values \\\"a\\\" and \\\"b\\\" in\\nthe AdderTask.\\n\""
      ]
     },
     "execution_count": 15,
     "metadata": {},
     "output_type": "execute_result"
    }
   ],
   "execution_count": 15
  },
  {
   "metadata": {},
   "cell_type": "code",
   "outputs": [],
   "execution_count": null,
   "source": "",
   "id": "d1c3e3c809e108ba"
  }
 ],
 "metadata": {
  "kernelspec": {
   "display_name": "Python 3",
   "language": "python",
   "name": "python3"
  },
  "language_info": {
   "codemirror_mode": {
    "name": "ipython",
    "version": 2
   },
   "file_extension": ".py",
   "mimetype": "text/x-python",
   "name": "python",
   "nbconvert_exporter": "python",
   "pygments_lexer": "ipython2",
   "version": "2.7.6"
  }
 },
 "nbformat": 4,
 "nbformat_minor": 5
}
