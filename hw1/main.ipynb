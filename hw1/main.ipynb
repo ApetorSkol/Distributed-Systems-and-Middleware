{
 "cells": [
  {
   "cell_type": "code",
   "id": "initial_id",
   "metadata": {
    "collapsed": true,
    "ExecuteTime": {
     "end_time": "2025-03-17T08:58:01.572209Z",
     "start_time": "2025-03-17T08:58:01.477149Z"
    }
   },
   "source": [
    "import grpc\n",
    "\n",
    "import server_pb2\n",
    "import server_pb2_grpc\n",
    "import numpy as np"
   ],
   "outputs": [],
   "execution_count": 1
  },
  {
   "metadata": {
    "ExecuteTime": {
     "end_time": "2025-03-17T08:58:01.597105Z",
     "start_time": "2025-03-17T08:58:01.580251Z"
    }
   },
   "cell_type": "code",
   "source": [
    "# Create a channel\n",
    "channel = grpc.insecure_channel('andromeda.fi.muni.cz:58110')"
   ],
   "id": "6069371423e60f84",
   "outputs": [],
   "execution_count": 2
  },
  {
   "metadata": {
    "ExecuteTime": {
     "end_time": "2025-03-17T08:58:01.741848Z",
     "start_time": "2025-03-17T08:58:01.738305Z"
    }
   },
   "cell_type": "code",
   "source": [
    "# Create a stub (client)\n",
    "stub = server_pb2_grpc.HomeworkStub(channel)"
   ],
   "id": "4009b66f327544ba",
   "outputs": [],
   "execution_count": 3
  },
  {
   "metadata": {
    "ExecuteTime": {
     "end_time": "2025-03-17T08:58:01.783413Z",
     "start_time": "2025-03-17T08:58:01.779836Z"
    }
   },
   "cell_type": "code",
   "source": [
    "# Create a request with university email\n",
    "request = server_pb2.BeginData(email='555179@mail.muni.cz')"
   ],
   "id": "f1f40dd5441d8166",
   "outputs": [],
   "execution_count": 4
  },
  {
   "metadata": {
    "ExecuteTime": {
     "end_time": "2025-03-17T08:58:01.847271Z",
     "start_time": "2025-03-17T08:58:01.826751Z"
    }
   },
   "cell_type": "code",
   "source": [
    "# Make the call to the Begin method\n",
    "response = stub.Begin(request)\n",
    "session_token = response.token"
   ],
   "id": "6e02975b1a6dd08f",
   "outputs": [],
   "execution_count": 5
  },
  {
   "metadata": {
    "ExecuteTime": {
     "end_time": "2025-03-17T08:58:01.889070Z",
     "start_time": "2025-03-17T08:58:01.876355Z"
    }
   },
   "cell_type": "code",
   "source": "response",
   "id": "b9ff413d222abdef",
   "outputs": [
    {
     "data": {
      "text/plain": [
       "token: \"93d5f9fe-8f95-429f-8a9b-f76ccf65e1be\"\n",
       "info: \"Define the following two messages:\\n    message AdderTask {\\n        int64 a = 1;\\n        float b = 2;\\n    }\\n\\n    message AdderTaskResponse {\\n        string token = 1;\\n        double result = 2;\\n    }\\n\\nThe AdderTask in \\\"oneof tasks\\\" in the Response message has the field number 8.\\n\\nExtend the Homework service with the following method:\\n    rpc Adder(AdderTaskResponse) returns (Response);\\n\\nTo get the next task, you have to call the Adder service with the response filled\\nwith your assigned token and the result of the sum of the values \\\"a\\\" and \\\"b\\\" in\\nthe AdderTask.\\n\"\n",
       "adderTask {\n",
       "  a: 822\n",
       "  b: 631.028748\n",
       "}"
      ]
     },
     "execution_count": 6,
     "metadata": {},
     "output_type": "execute_result"
    }
   ],
   "execution_count": 6
  },
  {
   "metadata": {
    "ExecuteTime": {
     "end_time": "2025-03-17T08:58:01.960652Z",
     "start_time": "2025-03-17T08:58:01.943471Z"
    }
   },
   "cell_type": "code",
   "source": [
    "# Calculate the sum of a and b\n",
    "a = response.adderTask.a\n",
    "b = response.adderTask.b\n",
    "result = a + b\n",
    "result"
   ],
   "id": "fa87f74b151e8b2f",
   "outputs": [
    {
     "data": {
      "text/plain": [
       "1453.0287475585938"
      ]
     },
     "execution_count": 7,
     "metadata": {},
     "output_type": "execute_result"
    }
   ],
   "execution_count": 7
  },
  {
   "metadata": {
    "ExecuteTime": {
     "end_time": "2025-03-17T08:58:02.007122Z",
     "start_time": "2025-03-17T08:58:02.004080Z"
    }
   },
   "cell_type": "code",
   "source": [
    "adder_response = server_pb2.AdderTaskResponse(\n",
    "    token=session_token,\n",
    "    result=result\n",
    ")\n"
   ],
   "id": "18d4778c8d83581a",
   "outputs": [],
   "execution_count": 8
  },
  {
   "metadata": {
    "ExecuteTime": {
     "end_time": "2025-03-17T08:58:02.055324Z",
     "start_time": "2025-03-17T08:58:02.050097Z"
    }
   },
   "cell_type": "code",
   "source": "adder_response",
   "id": "c0f39d12e0f85e9",
   "outputs": [
    {
     "data": {
      "text/plain": [
       "token: \"93d5f9fe-8f95-429f-8a9b-f76ccf65e1be\"\n",
       "result: 1453.0287475585938"
      ]
     },
     "execution_count": 9,
     "metadata": {},
     "output_type": "execute_result"
    }
   ],
   "execution_count": 9
  },
  {
   "metadata": {
    "ExecuteTime": {
     "end_time": "2025-03-17T08:58:02.117910Z",
     "start_time": "2025-03-17T08:58:02.105088Z"
    }
   },
   "cell_type": "code",
   "source": [
    "request2 = server_pb2.AdderTaskResponse(token=adder_response.token, result=adder_response.result)\n",
    "response2 = stub.Adder(request2)"
   ],
   "id": "8f7c09869ea055e0",
   "outputs": [],
   "execution_count": 10
  },
  {
   "metadata": {
    "ExecuteTime": {
     "end_time": "2025-03-17T08:58:02.163430Z",
     "start_time": "2025-03-17T08:58:02.156820Z"
    }
   },
   "cell_type": "code",
   "source": "response2",
   "id": "d7d328604ec880d9",
   "outputs": [
    {
     "data": {
      "text/plain": [
       "token: \"93d5f9fe-8f95-429f-8a9b-f76ccf65e1be\"\n",
       "info: \"Define the following two messages:\\n    message MatrixTask {\\n        message Row {\\n            repeated int64 values = 1; \\n        }\\n        repeated Row rows = 1;\\n    }\\n\\n    message MatrixTaskResponse {\\n        string token = 1;\\n        int64 determinant = 2;\\n    }\\n\\nThe MatrixTask in \\\"oneof tasks\\\" in the Response message has the field number 9.\\n\\nExtend the Homework service with the following method:\\n    rpc Matrix(MatrixTaskResponse) returns (Response);\\n\\nTo get the next task, you have to call the Matrix method with the response filled\\nwith your assigned token and the matrix determinant.\\nSee https://en.wikipedia.org/wiki/Determinant for the description of the matrix determinant.\"\n",
       "matrixTask {\n",
       "  rows {\n",
       "    values: 13\n",
       "    values: 17\n",
       "    values: 19\n",
       "  }\n",
       "  rows {\n",
       "    values: 12\n",
       "    values: 16\n",
       "    values: 17\n",
       "  }\n",
       "  rows {\n",
       "    values: 15\n",
       "    values: 19\n",
       "    values: 16\n",
       "  }\n",
       "}"
      ]
     },
     "execution_count": 11,
     "metadata": {},
     "output_type": "execute_result"
    }
   ],
   "execution_count": 11
  },
  {
   "metadata": {
    "ExecuteTime": {
     "end_time": "2025-03-17T08:58:02.213090Z",
     "start_time": "2025-03-17T08:58:02.208249Z"
    }
   },
   "cell_type": "code",
   "source": [
    "# Calculate determinant of matrix\n",
    "matrix = []\n",
    "for row in response2.matrixTask.rows:\n",
    "    matrix_row = list(row.values)\n",
    "    matrix.append(matrix_row)\n",
    "n_array = np.array(matrix)\n",
    "det = np.linalg.det(n_array)\n",
    "float(det)"
   ],
   "id": "23fa6da0225e4b4b",
   "outputs": [
    {
     "data": {
      "text/plain": [
       "-28.000000000000036"
      ]
     },
     "execution_count": 12,
     "metadata": {},
     "output_type": "execute_result"
    }
   ],
   "execution_count": 12
  },
  {
   "metadata": {
    "ExecuteTime": {
     "end_time": "2025-03-17T08:58:02.281440Z",
     "start_time": "2025-03-17T08:58:02.269592Z"
    }
   },
   "cell_type": "code",
   "source": [
    "matrix_response = server_pb2.MatrixTaskResponse(\n",
    "    token=response2.token,\n",
    "    determinant=int(det)\n",
    ")"
   ],
   "id": "f745b6e4d693db6c",
   "outputs": [],
   "execution_count": 13
  },
  {
   "metadata": {
    "ExecuteTime": {
     "end_time": "2025-03-17T08:58:02.384978Z",
     "start_time": "2025-03-17T08:58:02.368471Z"
    }
   },
   "cell_type": "code",
   "source": "matrix_response",
   "id": "77a2439502a6c2c1",
   "outputs": [
    {
     "data": {
      "text/plain": [
       "token: \"93d5f9fe-8f95-429f-8a9b-f76ccf65e1be\"\n",
       "determinant: -28"
      ]
     },
     "execution_count": 14,
     "metadata": {},
     "output_type": "execute_result"
    }
   ],
   "execution_count": 14
  },
  {
   "metadata": {
    "ExecuteTime": {
     "end_time": "2025-03-17T08:58:02.438323Z",
     "start_time": "2025-03-17T08:58:02.420999Z"
    }
   },
   "cell_type": "code",
   "source": [
    "request3 = server_pb2.MatrixTaskResponse(token=matrix_response.token, determinant=matrix_response.determinant)\n",
    "response3 = stub.Matrix(request3)"
   ],
   "id": "a3ac726938640f06",
   "outputs": [],
   "execution_count": 15
  },
  {
   "metadata": {
    "ExecuteTime": {
     "end_time": "2025-03-17T08:58:02.503431Z",
     "start_time": "2025-03-17T08:58:02.483681Z"
    }
   },
   "cell_type": "code",
   "source": "response3",
   "id": "c2d8971dccf462c5",
   "outputs": [
    {
     "data": {
      "text/plain": [
       "token: \"93d5f9fe-8f95-429f-8a9b-f76ccf65e1be\"\n",
       "info: \"Define the following three messages:\\n    message FlipLineRequest {\\n        string token = 1;\\n    }\\n\\n    message FlipLineResponse {\\n        optional string token = 1;\\n        Point point = 2;\\n    }\\n\\n    message Point {\\n        sint32 x = 1;\\n        sint32 y = 2;\\n    }\\n\\nExtend the Homework service with the following method:\\n    rpc ReadLine(FlipLineRequest) returns (stream Point);\\n    rpc SendLine(stream FlipLineResponse) returns (Response);\\n\\nTo get the next task, you have to call the call the ReadLine method (with your assigned token),\\nread the points and send them back (SendLine) to the server wrapped in FlipLineResponse with\\nreversed X and Y axis. Note that at least one response needs to have your assigned token.\""
      ]
     },
     "execution_count": 16,
     "metadata": {},
     "output_type": "execute_result"
    }
   ],
   "execution_count": 16
  },
  {
   "metadata": {
    "ExecuteTime": {
     "end_time": "2025-03-17T08:58:02.573632Z",
     "start_time": "2025-03-17T08:58:02.557063Z"
    }
   },
   "cell_type": "code",
   "source": [
    "request4 = server_pb2.FlipLineRequest(token=response3.token)\n",
    "response4 = stub.ReadLine(request4)"
   ],
   "id": "4ad3b0a6b7729170",
   "outputs": [],
   "execution_count": 17
  },
  {
   "metadata": {
    "ExecuteTime": {
     "end_time": "2025-03-17T08:58:02.637194Z",
     "start_time": "2025-03-17T08:58:02.621555Z"
    }
   },
   "cell_type": "code",
   "source": "response4",
   "id": "221b2404351df46f",
   "outputs": [
    {
     "data": {
      "text/plain": [
       "<_MultiThreadedRendezvous object>"
      ]
     },
     "execution_count": 18,
     "metadata": {},
     "output_type": "execute_result"
    }
   ],
   "execution_count": 18
  },
  {
   "metadata": {
    "ExecuteTime": {
     "end_time": "2025-03-17T08:58:02.708627Z",
     "start_time": "2025-03-17T08:58:02.685107Z"
    }
   },
   "cell_type": "code",
   "source": [
    "flipped_points = []\n",
    "for point in response4:\n",
    "        print(f\"Received point: ({point.x}, {point.y})\")\n",
    "        flipped_point = server_pb2.Point(x=point.y, y=point.x)\n",
    "        print(flipped_point)\n",
    "        flipped_points.append(flipped_point)"
   ],
   "id": "b911a513c9526f5e",
   "outputs": [
    {
     "name": "stdout",
     "output_type": "stream",
     "text": [
      "Received point: (-1, -2)\n",
      "x: -2\n",
      "y: -1\n",
      "\n",
      "Received point: (-2, -2)\n",
      "x: -2\n",
      "y: -2\n",
      "\n",
      "Received point: (0, 0)\n",
      "\n",
      "Received point: (4, 4)\n",
      "x: 4\n",
      "y: 4\n",
      "\n",
      "Received point: (1, -4)\n",
      "x: -4\n",
      "y: 1\n",
      "\n",
      "Received point: (-3, 0)\n",
      "y: -3\n",
      "\n"
     ]
    }
   ],
   "execution_count": 19
  },
  {
   "metadata": {
    "ExecuteTime": {
     "end_time": "2025-03-17T08:58:02.850663Z",
     "start_time": "2025-03-17T08:58:02.836374Z"
    }
   },
   "cell_type": "code",
   "source": "flipped_points",
   "id": "6adc75834a86a74e",
   "outputs": [
    {
     "data": {
      "text/plain": [
       "[x: -2\n",
       " y: -1,\n",
       " x: -2\n",
       " y: -2,\n",
       " ,\n",
       " x: 4\n",
       " y: 4,\n",
       " x: -4\n",
       " y: 1,\n",
       " y: -3]"
      ]
     },
     "execution_count": 20,
     "metadata": {},
     "output_type": "execute_result"
    }
   ],
   "execution_count": 20
  },
  {
   "metadata": {
    "ExecuteTime": {
     "end_time": "2025-03-17T08:58:03.016171Z",
     "start_time": "2025-03-17T08:58:03.005579Z"
    }
   },
   "cell_type": "code",
   "source": [
    "def generate_responses():\n",
    "    for point in flipped_points:\n",
    "        yield server_pb2.FlipLineResponse(token=response3.token, point=point)\n",
    "response5 = stub.SendLine(generate_responses())"
   ],
   "id": "a740995225feafac",
   "outputs": [],
   "execution_count": 21
  },
  {
   "metadata": {
    "ExecuteTime": {
     "end_time": "2025-03-17T08:58:03.061415Z",
     "start_time": "2025-03-17T08:58:03.056658Z"
    }
   },
   "cell_type": "code",
   "source": "response5",
   "id": "63c3a87383b63c6a",
   "outputs": [
    {
     "data": {
      "text/plain": [
       "token: \"93d5f9fe-8f95-429f-8a9b-f76ccf65e1be\"\n",
       "info: \"You have successfully completed your homework.\\nSubmit your source code to the IS depository.\\n\""
      ]
     },
     "execution_count": 22,
     "metadata": {},
     "output_type": "execute_result"
    }
   ],
   "execution_count": 22
  }
 ],
 "metadata": {
  "kernelspec": {
   "display_name": "Python 3",
   "language": "python",
   "name": "python3"
  },
  "language_info": {
   "codemirror_mode": {
    "name": "ipython",
    "version": 2
   },
   "file_extension": ".py",
   "mimetype": "text/x-python",
   "name": "python",
   "nbconvert_exporter": "python",
   "pygments_lexer": "ipython2",
   "version": "2.7.6"
  }
 },
 "nbformat": 4,
 "nbformat_minor": 5
}
