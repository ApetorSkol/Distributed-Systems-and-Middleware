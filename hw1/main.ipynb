{
 "cells": [
  {
   "cell_type": "code",
   "id": "initial_id",
   "metadata": {
    "collapsed": true,
    "ExecuteTime": {
     "end_time": "2025-03-16T20:20:44.641866Z",
     "start_time": "2025-03-16T20:20:44.607668Z"
    }
   },
   "source": [
    "import grpc\n",
    "\n",
    "import server_pb2\n",
    "import server_pb2_grpc"
   ],
   "outputs": [],
   "execution_count": 1
  },
  {
   "metadata": {
    "ExecuteTime": {
     "end_time": "2025-03-16T20:20:44.659827Z",
     "start_time": "2025-03-16T20:20:44.650484Z"
    }
   },
   "cell_type": "code",
   "source": [
    "# Create a channel\n",
    "channel = grpc.insecure_channel('andromeda.fi.muni.cz:58110')"
   ],
   "id": "6069371423e60f84",
   "outputs": [],
   "execution_count": 2
  },
  {
   "metadata": {
    "ExecuteTime": {
     "end_time": "2025-03-16T20:20:44.831263Z",
     "start_time": "2025-03-16T20:20:44.827994Z"
    }
   },
   "cell_type": "code",
   "source": [
    "# Create a stub (client)\n",
    "stub = server_pb2_grpc.HomeworkStub(channel)"
   ],
   "id": "4009b66f327544ba",
   "outputs": [],
   "execution_count": 3
  },
  {
   "metadata": {
    "ExecuteTime": {
     "end_time": "2025-03-16T20:20:44.873314Z",
     "start_time": "2025-03-16T20:20:44.869584Z"
    }
   },
   "cell_type": "code",
   "source": [
    "# Create a request with university email\n",
    "request = server_pb2.BeginData(email='555179@mail.muni.cz')"
   ],
   "id": "f1f40dd5441d8166",
   "outputs": [],
   "execution_count": 4
  },
  {
   "metadata": {
    "ExecuteTime": {
     "end_time": "2025-03-16T20:20:44.944227Z",
     "start_time": "2025-03-16T20:20:44.914435Z"
    }
   },
   "cell_type": "code",
   "source": [
    "# Make the call to the Begin method\n",
    "response = stub.Begin(request)\n",
    "session_token = response.token"
   ],
   "id": "6e02975b1a6dd08f",
   "outputs": [],
   "execution_count": 5
  },
  {
   "metadata": {
    "ExecuteTime": {
     "end_time": "2025-03-16T20:20:44.968252Z",
     "start_time": "2025-03-16T20:20:44.961979Z"
    }
   },
   "cell_type": "code",
   "source": "response",
   "id": "b9ff413d222abdef",
   "outputs": [
    {
     "data": {
      "text/plain": [
       "token: \"b4491ecf-806b-4dea-a09c-69a854c386a6\"\n",
       "info: \"Define the following two messages:\\n    message AdderTask {\\n        int64 a = 1;\\n        float b = 2;\\n    }\\n\\n    message AdderTaskResponse {\\n        string token = 1;\\n        double result = 2;\\n    }\\n\\nThe AdderTask in \\\"oneof tasks\\\" in the Response message has the field number 8.\\n\\nExtend the Homework service with the following method:\\n    rpc Adder(AdderTaskResponse) returns (Response);\\n\\nTo get the next task, you have to call the Adder service with the response filled\\nwith your assigned token and the result of the sum of the values \\\"a\\\" and \\\"b\\\" in\\nthe AdderTask.\\n\"\n",
       "adderTask {\n",
       "  a: 610\n",
       "  b: 107.040146\n",
       "}"
      ]
     },
     "execution_count": 6,
     "metadata": {},
     "output_type": "execute_result"
    }
   ],
   "execution_count": 6
  },
  {
   "metadata": {},
   "cell_type": "markdown",
   "source": [
    "info: \"Define the following two messages:\n",
    "\n",
    "message AdderTask {\n",
    "\n",
    "    int64 a = 1;\n",
    "    float b = 2;\n",
    "\n",
    "}\n",
    "\n",
    "message AdderTaskResponse {\n",
    "\n",
    "    string token = 1;\n",
    "    double result = 2;\n",
    "\n",
    "}\n",
    "\n",
    "The AdderTask in \\\"oneof tasks\\\" in the Response message has the field number 8.\n",
    "\n",
    "Extend the Homework service with the following method:\n",
    "\n",
    "rpc Adder(AdderTaskResponse) returns (Response);\n",
    "\n",
    "To get the next task, you have to call the Adder service with the response filled with your assigned token and the result of the sum of the values \\\"a\\\" and \\\"b\\\" in the AdderTask.\"\n",
    "\n",
    "adderTask {\n",
    "\n",
    "    a: 610\n",
    "    b: 107.040146\n",
    "\n",
    "}\n",
    "\n"
   ],
   "id": "7f96bbbc254df7fa"
  },
  {
   "metadata": {
    "ExecuteTime": {
     "end_time": "2025-03-16T20:23:07.986148Z",
     "start_time": "2025-03-16T20:23:07.981456Z"
    }
   },
   "cell_type": "code",
   "source": [
    "# Calculate the sum of a and b\n",
    "a = response.adderTask.a\n",
    "b = response.adderTask.b\n",
    "result = a + b\n",
    "result"
   ],
   "id": "fa87f74b151e8b2f",
   "outputs": [
    {
     "data": {
      "text/plain": [
       "717.0401458740234"
      ]
     },
     "execution_count": 14,
     "metadata": {},
     "output_type": "execute_result"
    }
   ],
   "execution_count": 14
  },
  {
   "metadata": {
    "ExecuteTime": {
     "end_time": "2025-03-16T20:23:12.950779Z",
     "start_time": "2025-03-16T20:23:12.947247Z"
    }
   },
   "cell_type": "code",
   "source": [
    "adder_response = server_pb2.AdderTaskResponse(\n",
    "    token=session_token,\n",
    "    result=result\n",
    ")\n"
   ],
   "id": "18d4778c8d83581a",
   "outputs": [],
   "execution_count": 15
  },
  {
   "metadata": {
    "ExecuteTime": {
     "end_time": "2025-03-16T20:23:14.378359Z",
     "start_time": "2025-03-16T20:23:14.372086Z"
    }
   },
   "cell_type": "code",
   "source": "adder_response",
   "id": "c0f39d12e0f85e9",
   "outputs": [
    {
     "data": {
      "text/plain": [
       "token: \"b4491ecf-806b-4dea-a09c-69a854c386a6\"\n",
       "result: 717.04014587402344"
      ]
     },
     "execution_count": 16,
     "metadata": {},
     "output_type": "execute_result"
    }
   ],
   "execution_count": 16
  },
  {
   "metadata": {
    "ExecuteTime": {
     "end_time": "2025-03-16T20:23:18.026017Z",
     "start_time": "2025-03-16T20:23:18.016696Z"
    }
   },
   "cell_type": "code",
   "source": [
    "request2 = server_pb2.AdderTaskResponse(token=adder_response.token, result=adder_response.result)\n",
    "response2 = stub.Adder(request2)"
   ],
   "id": "8f7c09869ea055e0",
   "outputs": [],
   "execution_count": 17
  },
  {
   "metadata": {
    "ExecuteTime": {
     "end_time": "2025-03-16T20:23:19.238762Z",
     "start_time": "2025-03-16T20:23:19.225790Z"
    }
   },
   "cell_type": "code",
   "source": "response2",
   "id": "d7d328604ec880d9",
   "outputs": [
    {
     "data": {
      "text/plain": [
       "token: \"b4491ecf-806b-4dea-a09c-69a854c386a6\"\n",
       "info: \"Define the following two messages:\\n    message MatrixTask {\\n        message Row {\\n            repeated int64 values = 1; \\n        }\\n        repeated Row rows = 1;\\n    }\\n\\n    message MatrixTaskResponse {\\n        string token = 1;\\n        int64 determinant = 2;\\n    }\\n\\nThe MatrixTask in \\\"oneof tasks\\\" in the Response message has the field number 9.\\n\\nExtend the Homework service with the following method:\\n    rpc Matrix(MatrixTaskResponse) returns (Response);\\n\\nTo get the next task, you have to call the Matrix method with the response filled\\nwith your assigned token and the matrix determinant.\\nSee https://en.wikipedia.org/wiki/Determinant for the description of the matrix determinant.\""
      ]
     },
     "execution_count": 18,
     "metadata": {},
     "output_type": "execute_result"
    }
   ],
   "execution_count": 18
  }
 ],
 "metadata": {
  "kernelspec": {
   "display_name": "Python 3",
   "language": "python",
   "name": "python3"
  },
  "language_info": {
   "codemirror_mode": {
    "name": "ipython",
    "version": 2
   },
   "file_extension": ".py",
   "mimetype": "text/x-python",
   "name": "python",
   "nbconvert_exporter": "python",
   "pygments_lexer": "ipython2",
   "version": "2.7.6"
  }
 },
 "nbformat": 4,
 "nbformat_minor": 5
}
