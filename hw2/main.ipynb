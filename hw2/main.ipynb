{
 "cells": [
  {
   "metadata": {
    "ExecuteTime": {
     "end_time": "2025-04-06T10:14:09.689528Z",
     "start_time": "2025-04-06T10:14:09.682182Z"
    }
   },
   "cell_type": "code",
   "source": "import zeep",
   "id": "67a3402de6cc89fa",
   "outputs": [],
   "execution_count": 124
  },
  {
   "metadata": {
    "ExecuteTime": {
     "end_time": "2025-04-06T10:14:09.703176Z",
     "start_time": "2025-04-06T10:14:09.698494Z"
    }
   },
   "cell_type": "code",
   "source": [
    "class StockMarketClient:\n",
    "    \"\"\"Client for interacting with the stock market web service\"\"\"\n",
    "\n",
    "    def __init__(self):\n",
    "        self.client = zeep.Client(wsdl=\"http://andromeda.fi.muni.cz/~xbatko/homework2?wsdl\")\n",
    "        self.auth_token = None\n",
    "        self.initial_balance = 0\n",
    "        self.target_balance = 0"
   ],
   "id": "bd9940ffe54726a1",
   "outputs": [],
   "execution_count": 125
  },
  {
   "metadata": {
    "ExecuteTime": {
     "end_time": "2025-04-06T10:14:09.774825Z",
     "start_time": "2025-04-06T10:14:09.747184Z"
    }
   },
   "cell_type": "code",
   "source": "StockMarketClient = StockMarketClient()",
   "id": "1a451000327fa1ed",
   "outputs": [],
   "execution_count": 126
  },
  {
   "metadata": {
    "ExecuteTime": {
     "end_time": "2025-04-06T10:14:09.809561Z",
     "start_time": "2025-04-06T10:14:09.796464Z"
    }
   },
   "cell_type": "code",
   "source": [
    "# create account\n",
    "try:\n",
    "    StockMarketClient.auth_token = StockMarketClient.client.service.createAccount(\"555179@mail.muni.cz\")\n",
    "    print(f\"Account created successfully!\")\n",
    "    print(f\"Auth Token: {StockMarketClient.auth_token}\")\n",
    "except Exception as e:\n",
    "    print(f\"Error: {e}\")"
   ],
   "id": "aafac47f5b086df9",
   "outputs": [
    {
     "name": "stdout",
     "output_type": "stream",
     "text": [
      "Account created successfully!\n",
      "Auth Token: 72f98f6d-aa39-4653-8e06-cef802dd7fa7\n"
     ]
    }
   ],
   "execution_count": 127
  },
  {
   "metadata": {
    "ExecuteTime": {
     "end_time": "2025-04-06T10:14:09.868032Z",
     "start_time": "2025-04-06T10:14:09.850989Z"
    }
   },
   "cell_type": "code",
   "source": [
    "# get my balance\n",
    "try:\n",
    "    StockMarketClient.initial_balance = StockMarketClient.client.service.balance(StockMarketClient.auth_token)\n",
    "    StockMarketClient.target_balance = StockMarketClient.initial_balance * 2\n",
    "    print(f\"Auth Token: {StockMarketClient.auth_token}\")\n",
    "    print(f\"Initial balance: ${StockMarketClient.initial_balance:.2f}\")\n",
    "    print(f\"Target balance: ${StockMarketClient.target_balance:.2f}\")\n",
    "except Exception as e:\n",
    "    print(f\"Error: {e}\")"
   ],
   "id": "e714577ca9186f95",
   "outputs": [
    {
     "name": "stdout",
     "output_type": "stream",
     "text": [
      "Auth Token: 72f98f6d-aa39-4653-8e06-cef802dd7fa7\n",
      "Initial balance: $10000.00\n",
      "Target balance: $20000.00\n"
     ]
    }
   ],
   "execution_count": 128
  },
  {
   "metadata": {
    "ExecuteTime": {
     "end_time": "2025-04-06T10:14:09.915962Z",
     "start_time": "2025-04-06T10:14:09.902934Z"
    }
   },
   "cell_type": "code",
   "source": [
    "# get stocks\n",
    "try:\n",
    "    list = StockMarketClient.client.service.list()\n",
    "    print(f\"Auth Token: {StockMarketClient.auth_token}\")\n",
    "    print(f\"Stocks : {list}\")\n",
    "except Exception as e:\n",
    "    print(f\"Error: {e}\")"
   ],
   "id": "fc6cef008b033f0a",
   "outputs": [
    {
     "name": "stdout",
     "output_type": "stream",
     "text": [
      "Auth Token: 72f98f6d-aa39-4653-8e06-cef802dd7fa7\n",
      "Stocks : ['CS', 'AAA', 'CEZ', 'KB']\n"
     ]
    }
   ],
   "execution_count": 129
  },
  {
   "metadata": {
    "ExecuteTime": {
     "end_time": "2025-04-06T10:14:09.967833Z",
     "start_time": "2025-04-06T10:14:09.955133Z"
    }
   },
   "cell_type": "code",
   "source": [
    "# get stocks\n",
    "try:\n",
    "    list = StockMarketClient.client.service.list()\n",
    "    print(f\"Auth Token: {StockMarketClient.auth_token}\")\n",
    "    print(f\"Stocks : {list}\")\n",
    "except Exception as e:\n",
    "    print(f\"Error: {e}\")"
   ],
   "id": "7604995970fadbc4",
   "outputs": [
    {
     "name": "stdout",
     "output_type": "stream",
     "text": [
      "Auth Token: 72f98f6d-aa39-4653-8e06-cef802dd7fa7\n",
      "Stocks : ['CS', 'AAA', 'CEZ', 'KB']\n"
     ]
    }
   ],
   "execution_count": 130
  },
  {
   "metadata": {
    "ExecuteTime": {
     "end_time": "2025-04-06T10:14:10.041892Z",
     "start_time": "2025-04-06T10:14:10.008639Z"
    }
   },
   "cell_type": "code",
   "source": [
    "# list currency prices\n",
    "try:\n",
    "    for currency in ['CS', 'AAA', 'CEZ', 'KB']:\n",
    "        price = StockMarketClient.client.service.info(currency)\n",
    "        print(f\"Price of {currency} : {price:.2f}\")\n",
    "except Exception as e:\n",
    "    print(f\"Error: {e}\")"
   ],
   "id": "43e58e682c1dc736",
   "outputs": [
    {
     "name": "stdout",
     "output_type": "stream",
     "text": [
      "Price of CS : 600.00\n",
      "Price of AAA : 18240.00\n",
      "Price of CEZ : 1440.00\n",
      "Price of KB : 6000.00\n"
     ]
    }
   ],
   "execution_count": 131
  },
  {
   "metadata": {
    "ExecuteTime": {
     "end_time": "2025-04-06T10:14:10.112637Z",
     "start_time": "2025-04-06T10:14:10.062154Z"
    }
   },
   "cell_type": "code",
   "source": [
    "# buy 1 CS\n",
    "try:\n",
    "    currency = 'CS'\n",
    "    buy = StockMarketClient.client.service.buy(StockMarketClient.auth_token, 'CS', 1)\n",
    "    initial_price = StockMarketClient.client.service.info(currency)\n",
    "    print(f\"Price of {currency} : {price:.2f}\")\n",
    "    print(f\"{buy}\")\n",
    "except Exception as e:\n",
    "    print(f\"Error: {e}\")"
   ],
   "id": "dff4d084e525d26b",
   "outputs": [
    {
     "name": "stdout",
     "output_type": "stream",
     "text": [
      "Price of CS : 6000.00\n",
      "None\n"
     ]
    }
   ],
   "execution_count": 132
  },
  {
   "metadata": {
    "ExecuteTime": {
     "end_time": "2025-04-06T10:15:04.965174Z",
     "start_time": "2025-04-06T10:14:10.124980Z"
    }
   },
   "cell_type": "code",
   "source": [
    "# cycle in process of buying and selling stocks so that we have enough money for HW2\n",
    "\n",
    "currency = 'CS'\n",
    "howMuchToFinish = StockMarketClient.client.service.howMuchToFinish(StockMarketClient.auth_token)\n",
    "while howMuchToFinish > 0:\n",
    "    try:\n",
    "        howMuchToFinish = StockMarketClient.client.service.howMuchToFinish(StockMarketClient.auth_token)\n",
    "        current_price = StockMarketClient.client.service.info(currency)\n",
    "        if 675 < current_price:\n",
    "            if StockMarketClient.client.service.own(StockMarketClient.auth_token, 'CS') > 0:\n",
    "                print(f\"Amount needed to finish: {howMuchToFinish:.2f}\")\n",
    "                print(f\"Price of {currency} : {current_price:.2f}\")\n",
    "\n",
    "                StockMarketClient.client.service.sell(StockMarketClient.auth_token, 'CS', 1)\n",
    "                print(f\"Selling 1 {currency}\")\n",
    "        elif current_price < 500:\n",
    "            if StockMarketClient.client.service.balance(StockMarketClient.auth_token) > current_price:\n",
    "                print(f\"Amount needed to finish: {howMuchToFinish:.2f}\")\n",
    "                print(f\"Price of {currency} : {current_price:.2f}\")\n",
    "\n",
    "                StockMarketClient.client.service.buy(StockMarketClient.auth_token, 'CS', 1)\n",
    "                print(f\"Buying 1 {currency}\")\n",
    "    except Exception as e:\n",
    "        print(f\"Error: {e}\")\n",
    "        continue\n",
    "howMuchToFinish = StockMarketClient.client.service.howMuchToFinish(StockMarketClient.auth_token)\n",
    "print(f\"Amount needed to finish: {howMuchToFinish:.2f}\")\n"
   ],
   "id": "19c7a007ae0e783f",
   "outputs": [
    {
     "name": "stdout",
     "output_type": "stream",
     "text": [
      "Amount needed to finish: 10600.00\n",
      "Price of CS : 475.00\n",
      "Buying 1 CS\n",
      "Amount needed to finish: 11075.00\n",
      "Price of CS : 475.00\n",
      "Buying 1 CS\n",
      "Amount needed to finish: 11550.00\n",
      "Price of CS : 475.00\n",
      "Buying 1 CS\n",
      "Amount needed to finish: 12025.00\n",
      "Price of CS : 475.00\n",
      "Buying 1 CS\n",
      "Amount needed to finish: 12500.00\n",
      "Price of CS : 475.00\n",
      "Buying 1 CS\n",
      "Amount needed to finish: 12975.00\n",
      "Price of CS : 475.00\n",
      "Buying 1 CS\n",
      "Amount needed to finish: 13450.00\n",
      "Price of CS : 475.00\n",
      "Buying 1 CS\n",
      "Amount needed to finish: 13925.00\n",
      "Price of CS : 475.00\n",
      "Buying 1 CS\n",
      "Amount needed to finish: 14400.00\n",
      "Price of CS : 475.00\n",
      "Buying 1 CS\n",
      "Amount needed to finish: 14875.00\n",
      "Price of CS : 475.00\n",
      "Buying 1 CS\n",
      "Amount needed to finish: 15350.00\n",
      "Price of CS : 475.00\n",
      "Buying 1 CS\n",
      "Amount needed to finish: 15825.00\n",
      "Price of CS : 475.00\n",
      "Buying 1 CS\n",
      "Amount needed to finish: 16300.00\n",
      "Price of CS : 475.00\n",
      "Buying 1 CS\n",
      "Amount needed to finish: 16775.00\n",
      "Price of CS : 475.00\n",
      "Buying 1 CS\n",
      "Amount needed to finish: 17250.00\n",
      "Price of CS : 475.00\n",
      "Buying 1 CS\n",
      "Amount needed to finish: 17725.00\n",
      "Price of CS : 475.00\n",
      "Buying 1 CS\n",
      "Amount needed to finish: 18200.00\n",
      "Price of CS : 475.00\n",
      "Buying 1 CS\n",
      "Amount needed to finish: 18700.00\n",
      "Price of CS : 700.00\n",
      "Selling 1 CS\n",
      "Amount needed to finish: 18000.00\n",
      "Price of CS : 700.00\n",
      "Selling 1 CS\n",
      "Amount needed to finish: 17300.00\n",
      "Price of CS : 700.00\n",
      "Selling 1 CS\n",
      "Amount needed to finish: 16600.00\n",
      "Price of CS : 700.00\n",
      "Selling 1 CS\n",
      "Amount needed to finish: 15900.00\n",
      "Price of CS : 700.00\n",
      "Selling 1 CS\n",
      "Amount needed to finish: 15200.00\n",
      "Price of CS : 700.00\n",
      "Selling 1 CS\n",
      "Amount needed to finish: 14500.00\n",
      "Price of CS : 700.00\n",
      "Selling 1 CS\n",
      "Amount needed to finish: 13800.00\n",
      "Price of CS : 700.00\n",
      "Selling 1 CS\n",
      "Amount needed to finish: 13100.00\n",
      "Price of CS : 700.00\n",
      "Selling 1 CS\n",
      "Amount needed to finish: 12400.00\n",
      "Price of CS : 700.00\n",
      "Selling 1 CS\n",
      "Amount needed to finish: 11700.00\n",
      "Price of CS : 700.00\n",
      "Selling 1 CS\n",
      "Amount needed to finish: 11000.00\n",
      "Price of CS : 700.00\n",
      "Selling 1 CS\n",
      "Amount needed to finish: 10300.00\n",
      "Price of CS : 700.00\n",
      "Selling 1 CS\n",
      "Amount needed to finish: 9600.00\n",
      "Price of CS : 725.00\n",
      "Selling 1 CS\n",
      "Amount needed to finish: 8875.00\n",
      "Price of CS : 725.00\n",
      "Selling 1 CS\n",
      "Amount needed to finish: 8150.00\n",
      "Price of CS : 725.00\n",
      "Selling 1 CS\n",
      "Amount needed to finish: 7425.00\n",
      "Price of CS : 725.00\n",
      "Selling 1 CS\n",
      "Amount needed to finish: 6700.00\n",
      "Price of CS : 725.00\n",
      "Selling 1 CS\n",
      "Amount needed to finish: 5975.00\n",
      "Price of CS : 475.00\n",
      "Buying 1 CS\n",
      "Amount needed to finish: 6450.00\n",
      "Price of CS : 475.00\n",
      "Buying 1 CS\n",
      "Amount needed to finish: 6925.00\n",
      "Price of CS : 475.00\n",
      "Buying 1 CS\n",
      "Amount needed to finish: 7400.00\n",
      "Price of CS : 475.00\n",
      "Buying 1 CS\n",
      "Amount needed to finish: 7875.00\n",
      "Price of CS : 475.00\n",
      "Buying 1 CS\n",
      "Amount needed to finish: 8350.00\n",
      "Price of CS : 475.00\n",
      "Buying 1 CS\n",
      "Amount needed to finish: 8825.00\n",
      "Price of CS : 475.00\n",
      "Buying 1 CS\n",
      "Amount needed to finish: 9300.00\n",
      "Price of CS : 475.00\n",
      "Buying 1 CS\n",
      "Amount needed to finish: 9775.00\n",
      "Price of CS : 475.00\n",
      "Buying 1 CS\n",
      "Amount needed to finish: 10250.00\n",
      "Price of CS : 475.00\n",
      "Buying 1 CS\n",
      "Amount needed to finish: 10725.00\n",
      "Price of CS : 475.00\n",
      "Buying 1 CS\n",
      "Amount needed to finish: 11200.00\n",
      "Price of CS : 475.00\n",
      "Buying 1 CS\n",
      "Amount needed to finish: 11675.00\n",
      "Price of CS : 475.00\n",
      "Buying 1 CS\n",
      "Amount needed to finish: 12150.00\n",
      "Price of CS : 475.00\n",
      "Buying 1 CS\n",
      "Amount needed to finish: 12625.00\n",
      "Price of CS : 475.00\n",
      "Buying 1 CS\n",
      "Amount needed to finish: 13100.00\n",
      "Price of CS : 475.00\n",
      "Buying 1 CS\n",
      "Amount needed to finish: 13575.00\n",
      "Price of CS : 475.00\n",
      "Buying 1 CS\n",
      "Amount needed to finish: 14050.00\n",
      "Price of CS : 475.00\n",
      "Buying 1 CS\n",
      "Amount needed to finish: 14525.00\n",
      "Price of CS : 700.00\n",
      "Selling 1 CS\n",
      "Amount needed to finish: 13825.00\n",
      "Price of CS : 700.00\n",
      "Selling 1 CS\n",
      "Amount needed to finish: 13125.00\n",
      "Price of CS : 700.00\n",
      "Selling 1 CS\n",
      "Amount needed to finish: 12425.00\n",
      "Price of CS : 700.00\n",
      "Selling 1 CS\n",
      "Amount needed to finish: 11725.00\n",
      "Price of CS : 700.00\n",
      "Selling 1 CS\n",
      "Amount needed to finish: 11025.00\n",
      "Price of CS : 700.00\n",
      "Selling 1 CS\n",
      "Amount needed to finish: 10325.00\n",
      "Price of CS : 700.00\n",
      "Selling 1 CS\n",
      "Amount needed to finish: 9625.00\n",
      "Price of CS : 700.00\n",
      "Selling 1 CS\n",
      "Amount needed to finish: 8925.00\n",
      "Price of CS : 700.00\n",
      "Selling 1 CS\n",
      "Amount needed to finish: 8225.00\n",
      "Price of CS : 700.00\n",
      "Selling 1 CS\n",
      "Amount needed to finish: 7525.00\n",
      "Price of CS : 700.00\n",
      "Selling 1 CS\n",
      "Amount needed to finish: 6825.00\n",
      "Price of CS : 700.00\n",
      "Selling 1 CS\n",
      "Amount needed to finish: 6125.00\n",
      "Price of CS : 700.00\n",
      "Selling 1 CS\n",
      "Amount needed to finish: 5425.00\n",
      "Price of CS : 700.00\n",
      "Selling 1 CS\n",
      "Amount needed to finish: 4725.00\n",
      "Price of CS : 700.00\n",
      "Selling 1 CS\n",
      "Amount needed to finish: 4025.00\n",
      "Price of CS : 700.00\n",
      "Selling 1 CS\n",
      "Amount needed to finish: 3325.00\n",
      "Price of CS : 700.00\n",
      "Selling 1 CS\n",
      "Amount needed to finish: 2625.00\n",
      "Price of CS : 700.00\n",
      "Selling 1 CS\n",
      "Amount needed to finish: 1900.00\n",
      "Price of CS : 475.00\n",
      "Buying 1 CS\n",
      "Amount needed to finish: 2375.00\n",
      "Price of CS : 475.00\n",
      "Buying 1 CS\n",
      "Amount needed to finish: 2850.00\n",
      "Price of CS : 475.00\n",
      "Buying 1 CS\n",
      "Amount needed to finish: 3325.00\n",
      "Price of CS : 475.00\n",
      "Buying 1 CS\n",
      "Amount needed to finish: 3800.00\n",
      "Price of CS : 475.00\n",
      "Buying 1 CS\n",
      "Amount needed to finish: 4275.00\n",
      "Price of CS : 475.00\n",
      "Buying 1 CS\n",
      "Amount needed to finish: 4750.00\n",
      "Price of CS : 475.00\n",
      "Buying 1 CS\n",
      "Amount needed to finish: 5225.00\n",
      "Price of CS : 475.00\n",
      "Buying 1 CS\n",
      "Amount needed to finish: 5700.00\n",
      "Price of CS : 475.00\n",
      "Buying 1 CS\n",
      "Amount needed to finish: 6175.00\n",
      "Price of CS : 475.00\n",
      "Buying 1 CS\n",
      "Amount needed to finish: 6650.00\n",
      "Price of CS : 475.00\n",
      "Buying 1 CS\n",
      "Amount needed to finish: 7125.00\n",
      "Price of CS : 475.00\n",
      "Buying 1 CS\n",
      "Amount needed to finish: 7600.00\n",
      "Price of CS : 475.00\n",
      "Buying 1 CS\n",
      "Amount needed to finish: 8075.00\n",
      "Price of CS : 475.00\n",
      "Buying 1 CS\n",
      "Amount needed to finish: 8550.00\n",
      "Price of CS : 475.00\n",
      "Buying 1 CS\n",
      "Amount needed to finish: 9025.00\n",
      "Price of CS : 475.00\n",
      "Buying 1 CS\n",
      "Amount needed to finish: 9500.00\n",
      "Price of CS : 475.00\n",
      "Buying 1 CS\n",
      "Amount needed to finish: 9975.00\n",
      "Price of CS : 475.00\n",
      "Buying 1 CS\n",
      "Amount needed to finish: 10475.00\n",
      "Price of CS : 700.00\n",
      "Selling 1 CS\n",
      "Amount needed to finish: 9775.00\n",
      "Price of CS : 700.00\n",
      "Selling 1 CS\n",
      "Amount needed to finish: 9075.00\n",
      "Price of CS : 700.00\n",
      "Selling 1 CS\n",
      "Amount needed to finish: 8375.00\n",
      "Price of CS : 700.00\n",
      "Selling 1 CS\n",
      "Amount needed to finish: 7675.00\n",
      "Price of CS : 700.00\n",
      "Selling 1 CS\n",
      "Amount needed to finish: 6975.00\n",
      "Price of CS : 700.00\n",
      "Selling 1 CS\n",
      "Amount needed to finish: 6275.00\n",
      "Price of CS : 700.00\n",
      "Selling 1 CS\n",
      "Amount needed to finish: 5575.00\n",
      "Price of CS : 700.00\n",
      "Selling 1 CS\n",
      "Amount needed to finish: 4875.00\n",
      "Price of CS : 700.00\n",
      "Selling 1 CS\n",
      "Amount needed to finish: 4175.00\n",
      "Price of CS : 700.00\n",
      "Selling 1 CS\n",
      "Amount needed to finish: 3475.00\n",
      "Price of CS : 700.00\n",
      "Selling 1 CS\n",
      "Amount needed to finish: 2775.00\n",
      "Price of CS : 725.00\n",
      "Selling 1 CS\n",
      "Amount needed to finish: 2050.00\n",
      "Price of CS : 725.00\n",
      "Selling 1 CS\n",
      "Amount needed to finish: 1325.00\n",
      "Price of CS : 725.00\n",
      "Selling 1 CS\n",
      "Amount needed to finish: 600.00\n",
      "Price of CS : 725.00\n",
      "Selling 1 CS\n",
      "Amount needed to finish: 0.00\n",
      "Price of CS : 725.00\n",
      "Selling 1 CS\n",
      "Amount needed to finish: 0.00\n"
     ]
    }
   ],
   "execution_count": 133
  },
  {
   "metadata": {
    "ExecuteTime": {
     "end_time": "2025-04-06T10:20:34.740732Z",
     "start_time": "2025-04-06T10:20:34.734595Z"
    }
   },
   "cell_type": "code",
   "source": [
    "print(\"Initial auth token:     \", StockMarketClient.auth_token)\n",
    "print(\"Initial balance:        \", StockMarketClient.initial_balance)\n",
    "print(\"Target balance:         \", StockMarketClient.target_balance)\n",
    "print(f\"Amount needed to finish: {howMuchToFinish:.2f}\")"
   ],
   "id": "4cd0c470b9be017a",
   "outputs": [
    {
     "name": "stdout",
     "output_type": "stream",
     "text": [
      "Initial auth token:      72f98f6d-aa39-4653-8e06-cef802dd7fa7\n",
      "Initial balance:         10000\n",
      "Target balance:          20000\n",
      "Amount needed to finish: 0.00\n"
     ]
    }
   ],
   "execution_count": 135
  }
 ],
 "metadata": {
  "kernelspec": {
   "display_name": "Python 3",
   "language": "python",
   "name": "python3"
  },
  "language_info": {
   "codemirror_mode": {
    "name": "ipython",
    "version": 2
   },
   "file_extension": ".py",
   "mimetype": "text/x-python",
   "name": "python",
   "nbconvert_exporter": "python",
   "pygments_lexer": "ipython2",
   "version": "2.7.6"
  }
 },
 "nbformat": 4,
 "nbformat_minor": 5
}
